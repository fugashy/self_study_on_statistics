{
 "cells": [
  {
   "cell_type": "code",
   "execution_count": 2,
   "metadata": {},
   "outputs": [],
   "source": [
    "# 女子大生身長データ\n",
    "tall_list = [\n",
    "    151, 154, 158, 162,\n",
    "    154, 152, 151, 167,\n",
    "    160, 161, 155, 159,\n",
    "    160, 160, 155, 153,\n",
    "    163, 160, 165, 146,\n",
    "    156, 153, 165, 156,\n",
    "    158, 155, 154, 160,\n",
    "    156, 163, 148, 151,\n",
    "    154, 160, 169, 151,\n",
    "    160, 159, 158, 157,\n",
    "    154, 164, 146, 151,\n",
    "    162, 158, 166, 156,\n",
    "    156, 150, 161, 166,\n",
    "    162, 155, 143, 159,\n",
    "    157, 157, 156, 157,\n",
    "    162, 161, 156, 156,\n",
    "    162, 168, 149, 159,\n",
    "    169, 162, 162, 156,\n",
    "    150, 153, 159, 156,\n",
    "    162, 154, 164, 161\n",
    "]"
   ]
  },
  {
   "cell_type": "code",
   "execution_count": 29,
   "metadata": {},
   "outputs": [
    {
     "name": "stdout",
     "output_type": "stream",
     "text": [
      "1. max: 170, min: 140\n",
      "2. range: 30, bin: 5\n",
      "3. class values: [143, 148, 153, 158, 163, 168]\n",
      "4. freq dist: {'143': 1, '148': 6, '153': 19, '158': 30, '163': 18, '168': 6}\n",
      "   number of data: 80\n"
     ]
    }
   ],
   "source": [
    "from math import ceil, floor\n",
    "# 度数分布を作る\n",
    "# 1. 最大値・最小値を決める（きりが良い感じに）\n",
    "tall_max = round(max(tall_list), -1)\n",
    "tall_min = round(min(tall_list), -1)\n",
    "print('1. max: {}, min: {}'.format(tall_max, tall_min))\n",
    "\n",
    "# 2. 階級を作る（最大・最小の範囲内で，5~8個の範囲に区切る\n",
    "tall_range = tall_max - tall_min\n",
    "class_num = 6\n",
    "tall_bin = ceil(tall_range / class_num)\n",
    "print('2. range: {}, bin: {}'.format(tall_range, tall_bin))\n",
    "\n",
    "# 3. 各階級の代表値を決める\n",
    "class_values = [tall_min + ceil(tall_bin / 2.) + tall_bin * v for v in range(class_num)]\n",
    "print('3. class values: {}'.format(class_values))\n",
    "\n",
    "# 4. 各階級に入る数をカウントする\n",
    "# 階級の範囲が奇数の場合のための切り捨て・切り上げ処理あり\n",
    "classes = [(v - ceil(tall_bin / 2.), v + floor(tall_bin / 2.)) for v in class_values]\n",
    "freq_by_key = {}\n",
    "for cls, cls_v in zip(classes, class_values):\n",
    "    if str(cls_v) not in freq_by_key:\n",
    "        freq_by_key[str(cls_v)] = 0\n",
    "    for tall in tall_list:\n",
    "        if cls[0] < tall and tall <= cls[1]:\n",
    "            freq_by_key[str(cls_v)] += 1\n",
    "s = 0\n",
    "for key in freq_by_key:\n",
    "    s += freq_by_key[key]\n",
    "\n",
    "print('4. freq dist: {}'.format(freq_by_key))\n",
    "print('   number of data: {}'.format(s))"
   ]
  },
  {
   "cell_type": "code",
   "execution_count": 31,
   "metadata": {},
   "outputs": [
    {
     "data": {
      "image/png": "[encoded data removed]",
      "text/plain": [
       "<Figure size 432x288 with 1 Axes>"
      ]
     },
     "metadata": {
      "needs_background": "light"
     },
     "output_type": "display_data"
    }
   ],
   "source": [
    "# 可視化する\n",
    "%matplotlib inline\n",
    "import matplotlib.pyplot as plt\n",
    "\n",
    "_ = plt.hist(tall_list, bins=6)"
   ]
  },
  {
   "cell_type": "markdown",
   "metadata": {},
   "source": [
    "# 教訓\n",
    "\n",
    "- データを眺めていてもよくわからないが，度数分布を使うことで傾向をつかめる\n",
    "\n",
    "    - このデータの場合は，「大体158cmの娘が多い」ことがわかる\n",
    "    \n",
    "- 詳細を犠牲にしてデータの傾向を掴む行為を縮約といい，グラフを作ることや統計量を求めることが当てはまる"
   ]
  },
  {
   "cell_type": "code",
   "execution_count": 64,
   "metadata": {},
   "outputs": [
    {
     "name": "stdout",
     "output_type": "stream",
     "text": [
      "階級値: [38, 43, 48, 53, 58, 63, 68]\n",
      "度数: {'38': 3, '43': 11, '48': 33, '53': 19, '58': 7, '63': 5, '68': 2}\n",
      "80\n",
      "相対度数: {'38': 0.0375, '43': 0.1375, '48': 0.4125, '53': 0.2375, '58': 0.0875, '63': 0.0625, '68': 0.025}\n",
      "['38', '43', '48', '53', '58', '63', '68']\n"
     ]
    },
    {
     "ename": "NameError",
     "evalue": "name 'cuur' is not defined",
     "output_type": "error",
     "traceback": [
      "\u001b[0;31m---------------------------------------------------------------------------\u001b[0m",
      "\u001b[0;31mNameError\u001b[0m                                 Traceback (most recent call last)",
      "\u001b[0;32m<ipython-input-64-a9dbfe9fdf53>\u001b[0m in \u001b[0;36m<module>\u001b[0;34m\u001b[0m\n\u001b[1;32m     45\u001b[0m \u001b[0mkeys\u001b[0m \u001b[0;34m=\u001b[0m \u001b[0msorted\u001b[0m\u001b[0;34m(\u001b[0m\u001b[0mfreq_by_key\u001b[0m\u001b[0;34m.\u001b[0m\u001b[0mkeys\u001b[0m\u001b[0;34m(\u001b[0m\u001b[0;34m)\u001b[0m\u001b[0;34m)\u001b[0m\u001b[0;34m\u001b[0m\u001b[0;34m\u001b[0m\u001b[0m\n\u001b[1;32m     46\u001b[0m \u001b[0;32mfor\u001b[0m \u001b[0mprev\u001b[0m\u001b[0;34m,\u001b[0m \u001b[0mcurr\u001b[0m \u001b[0;32min\u001b[0m \u001b[0mzip\u001b[0m\u001b[0;34m(\u001b[0m\u001b[0mkeys\u001b[0m\u001b[0;34m,\u001b[0m \u001b[0mkeys\u001b[0m\u001b[0;34m[\u001b[0m\u001b[0;36m1\u001b[0m\u001b[0;34m:\u001b[0m\u001b[0;34m]\u001b[0m\u001b[0;34m)\u001b[0m\u001b[0;34m:\u001b[0m\u001b[0;34m\u001b[0m\u001b[0;34m\u001b[0m\u001b[0m\n\u001b[0;32m---> 47\u001b[0;31m     \u001b[0mfreq_by_key\u001b[0m\u001b[0;34m[\u001b[0m\u001b[0mcuur\u001b[0m\u001b[0;34m]\u001b[0m \u001b[0;34m+=\u001b[0m \u001b[0mfreq_by_key\u001b[0m\u001b[0;34m[\u001b[0m\u001b[0mprev\u001b[0m\u001b[0;34m]\u001b[0m\u001b[0;34m\u001b[0m\u001b[0;34m\u001b[0m\u001b[0m\n\u001b[0m\u001b[1;32m     48\u001b[0m \u001b[0mprint\u001b[0m\u001b[0;34m(\u001b[0m\u001b[0;34m'累積度数: {}'\u001b[0m\u001b[0;34m.\u001b[0m\u001b[0mformat\u001b[0m\u001b[0;34m(\u001b[0m\u001b[0mfreq_by_key\u001b[0m\u001b[0;34m)\u001b[0m\u001b[0;34m)\u001b[0m\u001b[0;34m\u001b[0m\u001b[0;34m\u001b[0m\u001b[0m\n\u001b[1;32m     49\u001b[0m \u001b[0;34m\u001b[0m\u001b[0m\n",
      "\u001b[0;31mNameError\u001b[0m: name 'cuur' is not defined"
     ]
    }
   ],
   "source": [
    "# 練習問題\n",
    "# 女子大生の体重リスト\n",
    "weights = [\n",
    "    48, 54, 47, 50, 53, 43, 45, 43,\n",
    "    44, 47, 58, 46, 46, 63, 49, 50,\n",
    "    48, 43, 46, 45, 50, 53, 51, 58,\n",
    "    52, 53, 47, 49, 45, 42, 51, 49,\n",
    "    58, 54, 45, 53, 50, 69, 44, 50,\n",
    "    58, 64, 40, 57, 51, 69, 58, 47,\n",
    "    62, 47, 40, 60, 48, 47, 53, 48,\n",
    "    52, 61, 55, 55, 48, 48, 46, 52,\n",
    "    45, 38, 62, 47, 55, 50, 46, 47,\n",
    "    55, 48, 50, 50, 54, 55, 48, 50\n",
    "]\n",
    "\n",
    "range_max = 70\n",
    "range_min = 36\n",
    "weight_range = range_max - range_min\n",
    "\n",
    "class_num = 7\n",
    "bin_value = ceil(weight_range / class_num)\n",
    "\n",
    "class_values = [range_min + floor(bin_value / 2.) + v * (bin_value) for v in range(class_num)]\n",
    "print('階級値: {}'.format(class_values))\n",
    "classes = [(v - floor(bin_value / 2.), v + floor(bin_value / 2.)) for v in class_values]\n",
    "\n",
    "freq_by_key = {}\n",
    "for cls, cls_v in zip(classes, class_values):\n",
    "    if str(cls_v) not in freq_by_key:\n",
    "        freq_by_key[str(cls_v)] = 0\n",
    "    for weight in weights:\n",
    "        if cls[0] <= weight and weight <= cls[1]:\n",
    "            freq_by_key[str(cls_v)] += 1\n",
    "print('度数: {}'.format(freq_by_key))\n",
    "s = 0\n",
    "for key in freq_by_key:\n",
    "    s += freq_by_key[key]\n",
    "print(s)\n",
    "\n",
    "for key in freq_by_key:\n",
    "    freq_by_key[key] /= 80.\n",
    "print('相対度数: {}'.format(freq_by_key))\n",
    "\n",
    "print(sorted(freq_by_key.keys()))\n",
    "keys = sorted(freq_by_key.keys())\n",
    "for prev, curr in zip(keys, keys[1:]):\n",
    "    freq_by_key[cuur] += freq_by_key[prev]\n",
    "print('累積度数: {}'.format(freq_by_key))\n",
    "    "
   ]
  }
 ],
 "metadata": {
  "kernelspec": {
   "display_name": "Python 3",
   "language": "python",
   "name": "python3"
  },
  "language_info": {
   "codemirror_mode": {
    "name": "ipython",
    "version": 3
   },
   "file_extension": ".py",
   "mimetype": "text/x-python",
   "name": "python",
   "nbconvert_exporter": "python",
   "pygments_lexer": "ipython3",
   "version": "3.7.4"
  }
 },
 "nbformat": 4,
 "nbformat_minor": 2
}
