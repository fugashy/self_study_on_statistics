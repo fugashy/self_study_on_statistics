{
 "cells": [
  {
   "cell_type": "code",
   "execution_count": 16,
   "metadata": {},
   "outputs": [
    {
     "name": "stdout",
     "output_type": "stream",
     "text": [
      "標本平均: 80.0\n",
      "標本分散: 12.333333333333332\n",
      "標本標準偏差: 3.511884584284246\n",
      "限界値(自由度5): 2.571\n"
     ]
    }
   ],
   "source": [
    "from math import sqrt\n",
    "import pandas as pd\n",
    "t_table = pd.read_csv('../data/t_table.csv', header=0, index_col=0)\n",
    "\n",
    "# 蝶の体長問題\n",
    "x = [76, 85, 82, 83, 76, 78]\n",
    "x_num = len(x)\n",
    "\n",
    "# 標本平均\n",
    "x_ave = 1 / x_num * sum(x)\n",
    "print('標本平均: {}'.format(x_ave))\n",
    "\n",
    "# 標本分散\n",
    "s_2 = 1 / x_num * sum([(e - x_ave)**2 for e in x])\n",
    "print('標本分散: {}'.format(s_2))\n",
    "\n",
    "# 標本標準偏差\n",
    "s = sqrt(s_2)\n",
    "print('標本標準偏差: {}'.format(s))\n",
    "\n",
    "# t分布の自由度\n",
    "dof = x_num - 1\n",
    "\n",
    "# その時の限界値\n",
    "limit_value = t_table.at[dof, 'limit_value']\n",
    "print('限界値(自由度{}): {}'.format(dof, limit_value))"
   ]
  },
  {
   "cell_type": "markdown",
   "metadata": {},
   "source": [
    "これらから，\n",
    "\n",
    "$$\n",
    "\\begin{array} \\\\\n",
    "-2.571 <= \\displaystyle \\frac{(80 - \\mu)\\sqrt{5}}{3.51} <= 2.571 \\\\\n",
    "-9.024 <= (80 - \\mu) \\sqrt{5} <= 9.024 \\\\\n",
    "-4.035 <= 80 - \\mu <= 4.035 \\\\\n",
    "75.96 <= \\mu <= 84.04\n",
    "\\end{array}\n",
    "$$\n",
    "\n",
    "- 母分散：W統計量を使ってchi2分布から推定\n",
    "- 母平均：T統計量を使ってt分布から推定"
   ]
  }
 ],
 "metadata": {
  "kernelspec": {
   "display_name": "Python 3",
   "language": "python",
   "name": "python3"
  },
  "language_info": {
   "codemirror_mode": {
    "name": "ipython",
    "version": 3
   },
   "file_extension": ".py",
   "mimetype": "text/x-python",
   "name": "python",
   "nbconvert_exporter": "python",
   "pygments_lexer": "ipython3",
   "version": "3.7.4"
  }
 },
 "nbformat": 4,
 "nbformat_minor": 2
}
