{
 "cells": [
  {
   "cell_type": "code",
   "execution_count": 2,
   "metadata": {},
   "outputs": [
    {
     "name": "stdout",
     "output_type": "stream",
     "text": [
      "ave: 31.0\n"
     ]
    }
   ],
   "source": [
    "# バスの到着時刻\n",
    "arival_times = [32, 27, 29, 34, 33]\n",
    "\n",
    "ave = sum(arival_times) / len(arival_times)\n",
    "print('ave: {}'.format(ave))"
   ]
  },
  {
   "cell_type": "code",
   "execution_count": 4,
   "metadata": {},
   "outputs": [
    {
     "name": "stdout",
     "output_type": "stream",
     "text": [
      "dev: [1.0, -4.0, -2.0, 3.0, 2.0]\n"
     ]
    }
   ],
   "source": [
    "# 偏差\n",
    "deviations = [v - ave for v in arival_times]\n",
    "print('dev: {}'.format(deviations))"
   ]
  },
  {
   "cell_type": "code",
   "execution_count": 6,
   "metadata": {},
   "outputs": [
    {
     "name": "stdout",
     "output_type": "stream",
     "text": [
      "simple ave of dev: 0.0\n"
     ]
    }
   ],
   "source": [
    "# 平均して要約を試みるが，プラスマイナスで相殺されたりするとばらつき具合はわからない\n",
    "dev_simple_ave = sum(deviations) / len(deviations)\n",
    "print('simple ave of dev: {}'.format(dev_simple_ave))"
   ]
  },
  {
   "cell_type": "code",
   "execution_count": 8,
   "metadata": {},
   "outputs": [
    {
     "name": "stdout",
     "output_type": "stream",
     "text": [
      "var: 6.8\n"
     ]
    }
   ],
   "source": [
    "# 自乗平均を使う\n",
    "# 分散と呼ぶ\n",
    "# 単位はもとの自乗にかわる\n",
    "variance = sum([v**2 for v in deviations]) / len(deviations)\n",
    "print('var: {}'.format(variance))"
   ]
  },
  {
   "cell_type": "code",
   "execution_count": 9,
   "metadata": {},
   "outputs": [
    {
     "name": "stdout",
     "output_type": "stream",
     "text": [
      "stddev: 2.6076809620810595\n"
     ]
    }
   ],
   "source": [
    "# これの平方根を使う\n",
    "# 単位はもとどおり\n",
    "# 偏差を平均したっぽい値になる\n",
    "from math import sqrt\n",
    "print('stddev: {}'.format(sqrt(variance)))"
   ]
  }
 ],
 "metadata": {
  "kernelspec": {
   "display_name": "Python 3",
   "language": "python",
   "name": "python3"
  },
  "language_info": {
   "codemirror_mode": {
    "name": "ipython",
    "version": 3
   },
   "file_extension": ".py",
   "mimetype": "text/x-python",
   "name": "python",
   "nbconvert_exporter": "python",
   "pygments_lexer": "ipython3",
   "version": "3.7.4"
  }
 },
 "nbformat": 4,
 "nbformat_minor": 2
}
