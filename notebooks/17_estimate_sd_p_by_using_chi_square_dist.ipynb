{
 "cells": [
  {
   "cell_type": "markdown",
   "metadata": {},
   "source": [
    "| 項目 | 既知orNot |\n",
    "| ---- | ---- |\n",
    "| 母平均 | 既知 |\n",
    "| 母標準偏差 | 未知 |\n",
    "| 標本平均 | 既知 |\n",
    "| 標本標準偏差 | 未知 |\n",
    "\n",
    "標本からの統計量Vの作り方\n",
    "\n",
    "$ V = \\left( \\frac{x_{1} - \\mu}{\\sigma} \\right)^{2} + \\left( \\frac{x_{1} - \\mu}{\\sigma} \\right)^{2} + \\cdots $"
   ]
  },
  {
   "cell_type": "code",
   "execution_count": 41,
   "metadata": {},
   "outputs": [
    {
     "name": "stdout",
     "output_type": "stream",
     "text": [
      "d sum: 50.0\n",
      "0.9759452042935686\n",
      "0.025053174836354386\n"
     ]
    }
   ],
   "source": [
    "import pandas as pd\n",
    "\n",
    "# ある蝶の体長に関する問題\n",
    "\n",
    "# 母平均が80\n",
    "# 3匹サンプリングしたら 76, 85, 83だった\n",
    "\n",
    "# このときの母分散は？\n",
    "\n",
    "ave_p = 80.\n",
    "x = [76., 85., 83.]\n",
    "\n",
    "# (偏差)^{2}の和\n",
    "dsum = sum([(e - ave_p)**2 for e in x])\n",
    "print('d sum: {}'.format(dsum))\n",
    "\n",
    "# 自由度3のχ自乗分布\n",
    "# キーの値以上の値を観測する確率を示す\n",
    "chi2_table = pd.read_csv('../data/chi2_table.csv', header=0, index_col=0)\n",
    "chi2_list = chi2_table['dof_3']\n",
    "\n",
    "# χ2乗分布の95％区間を得る\n",
    "# これをみると0.21あたりが下限\n",
    "print(chi2_list[0.973 < chi2_list]['base_value_0.21'])\n",
    "# これをみると9.35あたりが上限\n",
    "print(chi2_list[chi2_list < 0.0255]['base_value_9.34'])"
   ]
  },
  {
   "cell_type": "markdown",
   "metadata": {},
   "source": [
    "ここまでで，\n",
    "\n",
    "$ 0.21 <= \\displaystyle\\frac{50}{\\sigma^{2}} <= 9.34 $\n",
    "\n",
    "であると推定できる\n",
    "\n",
    "この区間に入らないような$\\sigma$は棄却する\n",
    "\n",
    "これを整理すると，\n",
    "\n",
    "$$\n",
    "\\begin{align}\n",
    "0.21\\sigma^{2} <= 50 <= 9.34\\sigma^{2} \\\\\n",
    "5.35 <= \\sigma^{2} <= 238.1 \\\\ \n",
    "2.31 <= \\sigma <= 15.43\n",
    "\\end{align}\n",
    "$$\n",
    "\n",
    "と推定できる"
   ]
  }
 ],
 "metadata": {
  "kernelspec": {
   "display_name": "Python 3",
   "language": "python",
   "name": "python3"
  },
  "language_info": {
   "codemirror_mode": {
    "name": "ipython",
    "version": 3
   },
   "file_extension": ".py",
   "mimetype": "text/x-python",
   "name": "python",
   "nbconvert_exporter": "python",
   "pygments_lexer": "ipython3",
   "version": "3.7.4"
  }
 },
 "nbformat": 4,
 "nbformat_minor": 2
}
