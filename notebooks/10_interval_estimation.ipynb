{
 "cells": [
  {
   "cell_type": "markdown",
   "metadata": {},
   "source": [
    "# 95%信頼区間を探す．区間推定\n",
    "\n",
    "| 項目 | 既知 or not |\n",
    "| ---- | ---- |\n",
    "| 母集団の分布 | 既知（正規分布） |\n",
    "| 平均値 | 未知 |\n",
    "| 標準偏差 | 既知 |"
   ]
  },
  {
   "cell_type": "code",
   "execution_count": 2,
   "metadata": {},
   "outputs": [
    {
     "name": "stdout",
     "output_type": "stream",
     "text": [
      "confidence interval of temp average: (10.2, 29.8)\n"
     ]
    }
   ],
   "source": [
    "# ばらつき5の温度計\n",
    "# 図ってみたら20だった\n",
    "# 平均値の信頼区間は？\n",
    "\n",
    "sd = 5.\n",
    "x = 20.\n",
    "\n",
    "# -1.96 < (x - u) / sd < 1.96\n",
    "# -1.96sd < x - u < 1.96sd\n",
    "# -1.96sd - x < -u < 1.96sd - x\n",
    "# 1.96sd + x > u > x - 1.96sd\n",
    "def confidence_interval_of_average(x, sd):\n",
    "    u_min = x - 1.96 * sd\n",
    "    u_max = 1.96 * sd + x\n",
    "    return u_min, u_max\n",
    "\n",
    "print('confidence interval of temp average: {}'.format(confidence_interval_of_average(x, sd)))"
   ]
  },
  {
   "cell_type": "code",
   "execution_count": 3,
   "metadata": {},
   "outputs": [
    {
     "name": "stdout",
     "output_type": "stream",
     "text": [
      "confidence interval of BP average: (118.24, 141.76)\n"
     ]
    }
   ],
   "source": [
    "# 練習問題\n",
    "# ばらつき6の血圧\n",
    "# 図ってみたら130だった\n",
    "# 平均値の信頼区間は？\n",
    "\n",
    "sd = 6.\n",
    "x = 130.\n",
    "\n",
    "print('confidence interval of BP average: {}'.format(confidence_interval_of_average(x, sd)))"
   ]
  }
 ],
 "metadata": {
  "kernelspec": {
   "display_name": "Python 3",
   "language": "python",
   "name": "python3"
  },
  "language_info": {
   "codemirror_mode": {
    "name": "ipython",
    "version": 3
   },
   "file_extension": ".py",
   "mimetype": "text/x-python",
   "name": "python",
   "nbconvert_exporter": "python",
   "pygments_lexer": "ipython3",
   "version": "3.7.4"
  }
 },
 "nbformat": 4,
 "nbformat_minor": 2
}
