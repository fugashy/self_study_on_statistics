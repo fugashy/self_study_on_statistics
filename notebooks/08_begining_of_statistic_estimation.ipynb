{
 "cells": [
  {
   "cell_type": "markdown",
   "metadata": {},
   "source": [
    "S.D(2)の範囲で考えるのがよく用いられる\n",
    "\n",
    "標準正規分布でいうと，\n",
    "\n",
    "$ -1.96 < x < 1.96 $\n",
    "\n",
    "正規分布に従う現象を扱う場合は，\n",
    "\n",
    "$ (\\mu - 1.96\\sigma) < x < (\\mu + 1.96\\sigma) $\n",
    "\n",
    "つまり，\n",
    "\n",
    "$ -1.96 < \\frac{x - \\mu}{\\sigma} < 1.96 $\n",
    "\n",
    "標準正規分布におけるS.Dは単位なし"
   ]
  },
  {
   "cell_type": "code",
   "execution_count": 4,
   "metadata": {},
   "outputs": [],
   "source": [
    "def confidence_interval(mean, stddev):\n",
    "    min_ = mean - 1.96 * stddev\n",
    "    max_ = mean + 1.96 * stddev\n",
    "    return (min_, max_)"
   ]
  },
  {
   "cell_type": "code",
   "execution_count": 5,
   "metadata": {},
   "outputs": [
    {
     "name": "stdout",
     "output_type": "stream",
     "text": [
      "confidence interval: (40.2, 59.8)\n"
     ]
    }
   ],
   "source": [
    "from math import sqrt\n",
    "\n",
    "# コイントスの例(何回表でる？)\n",
    "try_num = 100\n",
    "mean = try_num / 2.\n",
    "stddev = sqrt(try_num) /2.\n",
    "\n",
    "print('confidence interval: {}'.format(confidence_interval(mean, stddev)))"
   ]
  },
  {
   "cell_type": "code",
   "execution_count": 6,
   "metadata": {},
   "outputs": [
    {
     "name": "stdout",
     "output_type": "stream",
     "text": [
      "confidence interval of japanese women tall: (140.4, 179.6)\n"
     ]
    }
   ],
   "source": [
    "# 練習問題\n",
    "\n",
    "tall_mean = 160.\n",
    "tall_stddev = 10.\n",
    "\n",
    "print('confidence interval of japanese women tall: {}'.format(confidence_interval(tall_mean, tall_stddev)))"
   ]
  }
 ],
 "metadata": {
  "kernelspec": {
   "display_name": "Python 3",
   "language": "python",
   "name": "python3"
  },
  "language_info": {
   "codemirror_mode": {
    "name": "ipython",
    "version": 3
   },
   "file_extension": ".py",
   "mimetype": "text/x-python",
   "name": "python",
   "nbconvert_exporter": "python",
   "pygments_lexer": "ipython3",
   "version": "3.7.4"
  }
 },
 "nbformat": 4,
 "nbformat_minor": 2
}
