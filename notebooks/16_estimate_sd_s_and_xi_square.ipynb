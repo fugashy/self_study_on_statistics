{
 "cells": [
  {
   "cell_type": "markdown",
   "metadata": {},
   "source": [
    "# 標本分散とχ2乗分布\n",
    "\n",
    "標本分散\n",
    "\n",
    "$ s^{2} = \\frac{|(x_{1} - \\mu_{s})^{2} + (x_{2} - \\mu_{s})^{2} + (x_{3} - \\mu_{s})^{2} + \\cdots|}{n} $\n",
    "\n",
    "χ2乗分布 <- 標準正規母集団の標本から導く\n",
    "\n",
    "Xは互いに独立な標準正規分布に従う確率変数であるとする\n",
    "\n",
    "$ V = X_{1}^{2} + X_{2}^{2} + X_{3}^{2} + \\cdots $"
   ]
  },
  {
   "cell_type": "code",
   "execution_count": 12,
   "metadata": {},
   "outputs": [
    {
     "data": {
      "image/png": "[encoded data removed]",
      "text/plain": [
       "<Figure size 432x288 with 1 Axes>"
      ]
     },
     "metadata": {
      "needs_background": "light"
     },
     "output_type": "display_data"
    }
   ],
   "source": [
    "%matplotlib inline\n",
    "import matplotlib.pyplot as plt\n",
    "from scipy.stats import norm\n",
    "\n",
    "def generate_x_square_values(dof):\n",
    "    if dof <= 0:\n",
    "        raise Exception('dof must be larger than 0')\n",
    "    # 標準正規分布からサンプリング\n",
    "    s = [norm.rvs(loc=0, scale=1)**2 for i in range(dof)]\n",
    "    # その総和\n",
    "    v = sum(s)\n",
    "    return v\n",
    "\n",
    "try_num = 1000\n",
    "vs_1 = [generate_x_square_values(1) for i in range(try_num)]\n",
    "vs_5 = [generate_x_square_values(5) for i in range(try_num)]\n",
    "vs_10 = [generate_x_square_values(10) for i in range(try_num)]\n",
    "\n",
    "plt.hist(vs_1, bins=50, range=(0, 25))\n",
    "plt.hist(vs_5, bins=50, range=(0, 25))\n",
    "plt.hist(vs_10, bins=50, range=(0, 25))\n",
    "plt.show()"
   ]
  },
  {
   "cell_type": "code",
   "execution_count": 26,
   "metadata": {},
   "outputs": [
    {
     "data": {
      "image/png": "[encoded data removed]",
      "text/plain": [
       "<Figure size 432x288 with 1 Axes>"
      ]
     },
     "metadata": {
      "needs_background": "light"
     },
     "output_type": "display_data"
    }
   ],
   "source": [
    "from scipy.stats import chi2\n",
    "\n",
    "x = np.linspace(0, 25, 1000)\n",
    " \n",
    "linestyles = [':', '--', '-.']\n",
    "deg_of_freedom = [1, 5, 10]\n",
    "for k, ls in zip(deg_of_freedom, linestyles):\n",
    "  plt.plot(x, chi2.pdf(x, k), linestyle=ls)\n",
    " \n",
    "plt.xlim(0, 25)\n",
    "plt.ylim(0, 1.0)\n",
    " \n",
    "plt.show()"
   ]
  },
  {
   "cell_type": "code",
   "execution_count": 39,
   "metadata": {},
   "outputs": [
    {
     "name": "stdout",
     "output_type": "stream",
     "text": [
      "1.0\n",
      "0.8012519569012009\n",
      "0.5724067044708798\n"
     ]
    }
   ],
   "source": [
    "import pandas as pd\n",
    "import numpy as np\n",
    "\n",
    "# ある値以上の値が出る確率\n",
    "\n",
    "num = 1000\n",
    "range_max = 25\n",
    "\n",
    "# 自由度3の場合\n",
    "# 0以上\n",
    "print(chi2.cdf(100, 3) - chi2.cdf(0, 3))\n",
    "# 1以上\n",
    "print(chi2.cdf(100, 3) - chi2.cdf(1, 3))\n",
    "# 2以上\n",
    "print(chi2.cdf(100, 3) - chi2.cdf(2, 3))\n",
    "\n",
    "# まとめて処理\n",
    "dofs = [1, 2, 3, 4, 5, 6, 7, 8, 9, 10]\n",
    "base_values = np.linspace(0, 25, 2500)\n",
    "\n",
    "chi2_table = list()\n",
    "for base_value in base_values:\n",
    "    rows = list()\n",
    "    for dof in dofs:\n",
    "        rows.append(chi2.cdf(100, dof) - chi2.cdf(base_value, dof))\n",
    "    chi2_table.append(rows)\n",
    "    \n",
    "df = pd.DataFrame(chi2_table)\n",
    "df.index = ['base_value_{:.3}'.format(i) for i in base_values]\n",
    "df.columns = ['dof_{}'.format(i) for i in dofs]\n",
    "df.to_csv('/tmp/chi2_table.csv')"
   ]
  }
 ],
 "metadata": {
  "kernelspec": {
   "display_name": "Python 3",
   "language": "python",
   "name": "python3"
  },
  "language_info": {
   "codemirror_mode": {
    "name": "ipython",
    "version": 3
   },
   "file_extension": ".py",
   "mimetype": "text/x-python",
   "name": "python",
   "nbconvert_exporter": "python",
   "pygments_lexer": "ipython3",
   "version": "3.7.4"
  }
 },
 "nbformat": 4,
 "nbformat_minor": 2
}
