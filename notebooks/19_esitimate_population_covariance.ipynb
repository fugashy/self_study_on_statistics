{
 "cells": [
  {
   "cell_type": "markdown",
   "metadata": {},
   "source": [
    "標本分散を使って母分散を推定する\n",
    "\n",
    "ステップ\n",
    "\n",
    "標本平均$x_{ave}$, 標本分散$s^{2}$, 統計量$W$, 母分散$\\sigma^{2}$\n",
    "\n",
    "$$\n",
    "x_{ave} = \\displaystyle \\frac{1}{N} \\sum^{i} x_{i} \\\\\n",
    "s^{2} = \\frac{1}{N} \\sum^{i} \\left( x_{i} - x_{ave} \\right)^{2} \\\\\n",
    "W = \\frac{1}{\\sigma^{2}} \\sum^{i} \\left( x_{i} - x_{ave} \\right)^{2} \n",
    "$$\n",
    "\n",
    "$s^{2}$と$W$の形が似ているので整理できる\n",
    "\n",
    "$$ W = \\displaystyle\\frac{Ns^{2}}{\\sigma^{2}} $$\n",
    "\n",
    "ただし，$W$はN-1の自由度のχ2乗分布に従う"
   ]
  },
  {
   "cell_type": "code",
   "execution_count": 25,
   "metadata": {},
   "outputs": [
    {
     "name": "stdout",
     "output_type": "stream",
     "text": [
      "x_ave: 80.0\n",
      "s2: 10.8\n",
      "Wは自由度4のchi2分布に従う\n"
     ]
    }
   ],
   "source": [
    "# 蝶の体長のサンプル\n",
    "x = [76, 85, 82, 80, 77]\n",
    "dof = len(x)\n",
    "\n",
    "# 標本平均\n",
    "x_ave = float(sum(x)) / len(x)\n",
    "print('x_ave: {}'.format(x_ave))\n",
    "\n",
    "# 標本分散\n",
    "s2 = sum([(x_i - x_ave)**2 for x_i in x]) / len(x)\n",
    "print('s2: {}'.format(s2))\n",
    "\n",
    "print('Wは自由度{}のchi2分布に従う'.format(dof - 1))\n",
    "\n",
    "# データを引っ張ってくる"
   ]
  },
  {
   "cell_type": "code",
   "execution_count": 36,
   "metadata": {},
   "outputs": [
    {
     "name": "stdout",
     "output_type": "stream",
     "text": [
      "下限は0.48(0.9754004138073096)\n",
      "上限は11.1(0.0249875928402995)\n"
     ]
    }
   ],
   "source": [
    "# データを引っ張ってくる\n",
    "import pandas as pd\n",
    "\n",
    "chi2_table = pd.read_csv('../data/chi2_table.csv', header=0, index_col=0)\n",
    "chi2_series = chi2_table['dof_{}'.format(dof - 1)]\n",
    "\n",
    "print('下限は0.48({})'.format(chi2_series[0.975 < chi2_series]['base_value_0.48']))\n",
    "print('上限は11.1({})'.format(chi2_series[chi2_series < 0.025]['base_value_11.1']))"
   ]
  },
  {
   "cell_type": "markdown",
   "metadata": {},
   "source": [
    "つまり，\n",
    "\n",
    "$$\n",
    "\\begin{array} \\\\\n",
    "0.48 <= W <= 11.4 \\\\\n",
    "0.48 <= \\displaystyle\\frac{Ns^{2}}{\\sigma^{2}} <= 11.4 \\\\\n",
    "0.48 <= \\displaystyle\\frac{54}{\\sigma^{2}} <= 11.4 \\\\\n",
    "\\\\\n",
    "4.85 <= \\sigma^{2} <= 111.48 \\\\\n",
    "2.2 <= \\sigma <= 10.6\n",
    "\\end{array}\n",
    "$$"
   ]
  }
 ],
 "metadata": {
  "kernelspec": {
   "display_name": "Python 3",
   "language": "python",
   "name": "python3"
  },
  "language_info": {
   "codemirror_mode": {
    "name": "ipython",
    "version": 3
   },
   "file_extension": ".py",
   "mimetype": "text/x-python",
   "name": "python",
   "nbconvert_exporter": "python",
   "pygments_lexer": "ipython3",
   "version": "3.7.4"
  }
 },
 "nbformat": 4,
 "nbformat_minor": 2
}
