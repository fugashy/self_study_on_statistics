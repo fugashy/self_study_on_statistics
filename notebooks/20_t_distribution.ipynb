{
 "cells": [
  {
   "cell_type": "markdown",
   "metadata": {},
   "source": [
    "# T統計量\n",
    "\n",
    "$$\n",
    "T = \\displaystyle \\frac{\\left( x_{ave} - \\mu \\right) \\sqrt{n - 1}}{s}\n",
    "$$\n",
    "\n",
    "- n個のデータの標本平均$x_{ave}$を計算\n",
    "- n個のデータの標本標準偏差$s$を計算\n",
    "- T統計量の計算\n",
    "\n",
    "この統計量の分布がわかれば区間推定ができる\n",
    "\n",
    "これがやれるなら式変形して母平均$\\mu$を推定できる\n",
    "\n",
    "## 復習\n",
    "\n",
    "母平均$\\mu$，母標準偏差$\\sigma$から観測した$n$個のデータは，\n",
    "\n",
    "平均$\\mu$, 標準偏差$\\displaystyle\\frac{\\sigma}{\\sqrt{n}}$に従う\n",
    "\n",
    "データ$x$を標準正規分布に変換すると，\n",
    "\n",
    "$ z = \\displaystyle\\frac{\\left(x - \\mu\\right)}{\\displaystyle\\frac{\\sigma}{\\sqrt{n}}} $\n",
    "\n",
    "母標準偏差はわからないのが普通なので，標本標準偏差を使って少し変形\n",
    "\n",
    "$$\n",
    "\\begin{array} \\\\\n",
    "z &=& \\displaystyle\\frac{\\left(x - \\mu\\right)}{\\displaystyle\\frac{s}{\\sqrt{n}}} \\\\\n",
    "&=& \\displaystyle\\frac{\\left(x - u\\right)\\sqrt{n}}{s}\n",
    "\\end{array}\n",
    "$$\n",
    "\n",
    "nはn-1となるのが標本を扱うときの習慣（理屈はあるがよくわからん）\n",
    "\n",
    "この統計量をTとして，昔の人が分布を求める努力をしたおかげで，母平均の区間推定できるようになった"
   ]
  },
  {
   "cell_type": "code",
   "execution_count": 20,
   "metadata": {},
   "outputs": [
    {
     "data": {
      "image/png": "[encoded data removed]",
      "text/plain": [
       "<Figure size 432x288 with 1 Axes>"
      ]
     },
     "metadata": {
      "needs_background": "light"
     },
     "output_type": "display_data"
    }
   ],
   "source": [
    "# 分布の表示\n",
    "import matplotlib.pyplot as plt\n",
    "from scipy.stats import norm, t\n",
    "\n",
    "# 正確な比較になっているか自信ないが，t分布は裾野が広いことは言える\n",
    "t_values = t.rvs(df=1, size=1000)\n",
    "n_values = norm.rvs(loc=0, scale=1, size=1000)\n",
    "plt.hist(t_values, bins=100, range=(-20, 20), alpha=0.5)\n",
    "plt.hist(n_values, bins=100, range=(-20, 20), alpha=0.5)\n",
    "plt.show()"
   ]
  },
  {
   "cell_type": "code",
   "execution_count": 33,
   "metadata": {},
   "outputs": [
    {
     "name": "stdout",
     "output_type": "stream",
     "text": [
      "     limit_value\n",
      "1         12.706\n",
      "2          4.303\n",
      "3          3.182\n",
      "4          2.776\n",
      "5          2.571\n",
      "6          2.365\n",
      "7          2.306\n",
      "8          2.306\n",
      "9          2.262\n",
      "10         2.228\n",
      "30         2.042\n",
      "60         2.000\n",
      "120        1.986\n"
     ]
    }
   ],
   "source": [
    "# t分布の区間推定には限界値を用いる（95%のデータ含まれる値の大きさ）\n",
    "limit_value_by_dof = [\n",
    "    12.706,\n",
    "    4.303,\n",
    "    3.182,\n",
    "    2.776,\n",
    "    2.571,\n",
    "    2.365,\n",
    "    2.306,\n",
    "    2.306,\n",
    "    2.262,\n",
    "    2.228,\n",
    "    2.042,\n",
    "    2.000,\n",
    "    1.986\n",
    "]\n",
    "# データが多くなるほど正規分布に近づくことがわかる\n",
    "\n",
    "import pandas as pd\n",
    "df = pd.DataFrame(\n",
    "    limit_value_by_dof,\n",
    "    columns=['limit_value'],\n",
    "    index=['1', '2', '3', '4', '5', '6', '7', '8', '9', '10', '30', '60', '120'])\n",
    "print(df)\n",
    "df.to_csv('/tmp/t_table.csv')"
   ]
  }
 ],
 "metadata": {
  "kernelspec": {
   "display_name": "Python 3",
   "language": "python",
   "name": "python3"
  },
  "language_info": {
   "codemirror_mode": {
    "name": "ipython",
    "version": 3
   },
   "file_extension": ".py",
   "mimetype": "text/x-python",
   "name": "python",
   "nbconvert_exporter": "python",
   "pygments_lexer": "ipython3",
   "version": "3.7.4"
  }
 },
 "nbformat": 4,
 "nbformat_minor": 2
}
