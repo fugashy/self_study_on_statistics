{
 "cells": [
  {
   "cell_type": "code",
   "execution_count": 8,
   "metadata": {},
   "outputs": [],
   "source": [
    "# データ\n",
    "tall_list = [\n",
    "    151, 154, 158, 162,\n",
    "    154, 152, 151, 167,\n",
    "    160, 161, 155, 159,\n",
    "    160, 160, 155, 153,\n",
    "    163, 160, 165, 146,\n",
    "    156, 153, 165, 156,\n",
    "    158, 155, 154, 160,\n",
    "    156, 163, 148, 151,\n",
    "    154, 160, 169, 151,\n",
    "    160, 159, 158, 157,\n",
    "    154, 164, 146, 151,\n",
    "    162, 158, 166, 156,\n",
    "    156, 150, 161, 166,\n",
    "    162, 155, 143, 159,\n",
    "    157, 157, 156, 157,\n",
    "    162, 161, 156, 156,\n",
    "    162, 168, 149, 159,\n",
    "    169, 162, 162, 156,\n",
    "    150, 153, 159, 156,\n",
    "    162, 154, 164, 161\n",
    "]"
   ]
  },
  {
   "cell_type": "code",
   "execution_count": 3,
   "metadata": {},
   "outputs": [
    {
     "name": "stdout",
     "output_type": "stream",
     "text": [
      "ave: 157.575\n"
     ]
    }
   ],
   "source": [
    "# average\n",
    "ave = sum(tall_list) / len(tall_list)\n",
    "print('ave: {}'.format(ave))"
   ]
  },
  {
   "cell_type": "code",
   "execution_count": 9,
   "metadata": {},
   "outputs": [
    {
     "name": "stdout",
     "output_type": "stream",
     "text": [
      "ave from freq: 157.75\n"
     ]
    }
   ],
   "source": [
    "# 度数分布で求める平均値\n",
    "# 前章で求めたやつを引用 → 相対度数に\n",
    "freq_by_key = {'143': 1, '148': 6, '153': 19, '158': 30, '163': 18, '168': 6}\n",
    "for key in freq_by_key:\n",
    "    freq_by_key[key] /= 80.\n",
    "\n",
    "sum_value = 0\n",
    "for key in freq_by_key:\n",
    "    sum_value += int(key) * freq_by_key[key]\n",
    "print('ave from freq: {}'.format(sum_value))"
   ]
  }
 ],
 "metadata": {
  "kernelspec": {
   "display_name": "Python 3",
   "language": "python",
   "name": "python3"
  },
  "language_info": {
   "codemirror_mode": {
    "name": "ipython",
    "version": 3
   },
   "file_extension": ".py",
   "mimetype": "text/x-python",
   "name": "python",
   "nbconvert_exporter": "python",
   "pygments_lexer": "ipython3",
   "version": "3.7.4"
  }
 },
 "nbformat": 4,
 "nbformat_minor": 2
}
