{
 "cells": [
  {
   "cell_type": "markdown",
   "metadata": {},
   "source": [
    "標準偏差は株のリスクの指標（ボラリティ）に利用できる\n",
    "\n",
    "株取引の基礎知識\n",
    "\n",
    "- 目的は，配当をもらってそれを収益とすること（インカムゲイン）\n",
    "- 安いときに買って，高くなったら売り，その差額を儲ける（キャピタルゲイン）\n",
    "\n",
    "特に，キャピタルゲインを目当てに取引する場合は平均収益率が重要となる\n",
    "\n",
    "月次にフォーカスしてみる"
   ]
  },
  {
   "cell_type": "code",
   "execution_count": 3,
   "metadata": {},
   "outputs": [
    {
     "name": "stdout",
     "output_type": "stream",
     "text": [
      "capital gain: 10.000000000000014\n"
     ]
    }
   ],
   "source": [
    "buy_price = 100.\n",
    "monthly_ave_earning_rate = 0.1\n",
    "sell_price = buy_price * (1. + monthly_ave_earning_rate)\n",
    "print('capital gain: {}'.format(sell_price - buy_price))"
   ]
  },
  {
   "cell_type": "code",
   "execution_count": 6,
   "metadata": {},
   "outputs": [
    {
     "name": "stdout",
     "output_type": "stream",
     "text": [
      "ave of the term: 0.9359999999999999\n"
     ]
    }
   ],
   "source": [
    "# そんな単純なら苦労しない\n",
    "earning_rate_by_year = {\n",
    "    '1980': 2.05,\n",
    "    '1981': 2.46,\n",
    "    '1982': -1.33,\n",
    "    '1983': 2.04,\n",
    "    '1984': -0.54,\n",
    "}\n",
    "ave_of_the_term = \\\n",
    "    sum([earning_rate_by_year[year] for year in earning_rate_by_year.keys()]) / \\\n",
    "    len(earning_rate_by_year)\n",
    "print('ave of the term: {}'.format(ave_of_the_term))"
   ]
  },
  {
   "cell_type": "markdown",
   "metadata": {},
   "source": [
    "これらの値はあくまで平均なので，例えば，1980年は毎月2.05%設けられたわけではない\n",
    "\n",
    "より詳細なデータは以下"
   ]
  },
  {
   "cell_type": "code",
   "execution_count": 28,
   "metadata": {},
   "outputs": [
    {
     "name": "stdout",
     "output_type": "stream",
     "text": [
      "ave of 1980 is: 2.05\n",
      "std of 1980 is: 5.59\n",
      "ave of 1981 is: 2.46\n",
      "std of 1981 is: 9.52\n",
      "ave of 1982 is: -1.33\n",
      "std of 1982 is: 6.17\n",
      "ave of 1983 is: 2.04\n",
      "std of 1983 is: 6.25\n",
      "ave of 1984 is: -0.542\n",
      "std of 1984 is: 5.97\n"
     ]
    }
   ],
   "source": [
    "import pandas as pd\n",
    "\n",
    "data = pd.read_csv('../data/earn_rate.csv', header=0, index_col=0)\n",
    "\n",
    "# 各年の平均と標準偏差\n",
    "for c in data.columns.values.tolist():\n",
    "    print('ave of {} is: {:.3}'.format(c, data[c].mean()))\n",
    "    print('std of {} is: {:.3}'.format(c, data[c].std()))"
   ]
  },
  {
   "cell_type": "markdown",
   "metadata": {},
   "source": [
    "わかること\n",
    "- 平均は1981年がいい感じだが，ばらつきも大きいので，短期的には損することもある\n",
    "\n",
    "株取引においてはその標準偏差をボラリティという"
   ]
  }
 ],
 "metadata": {
  "kernelspec": {
   "display_name": "Python 3",
   "language": "python",
   "name": "python3"
  },
  "language_info": {
   "codemirror_mode": {
    "name": "ipython",
    "version": 3
   },
   "file_extension": ".py",
   "mimetype": "text/x-python",
   "name": "python",
   "nbconvert_exporter": "python",
   "pygments_lexer": "ipython3",
   "version": "3.7.4"
  }
 },
 "nbformat": 4,
 "nbformat_minor": 2
}
