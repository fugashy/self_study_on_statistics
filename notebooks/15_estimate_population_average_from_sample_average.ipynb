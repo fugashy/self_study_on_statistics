{
 "cells": [
  {
   "cell_type": "markdown",
   "metadata": {},
   "source": [
    "# 標本平均を使った母平均の区間推定\n",
    "\n",
    "| 項目 | 既知orNot |\n",
    "| ---- | ---- |\n",
    "| 母平均 | 未知 |\n",
    "| 母標準偏差 | 既知 |\n",
    "| 標本平均 | 既知 |\n",
    "| 標本標準偏差 | 未知 |\n",
    "\n",
    "95%(sd x 2)の範囲の表現\n",
    "\n",
    "$ -1.96 <= \\frac{x^{-} - \\mu}{\\frac{\\sigma}{\\sqrt{n}}} <= 1.96 $"
   ]
  },
  {
   "cell_type": "code",
   "execution_count": 3,
   "metadata": {},
   "outputs": [
    {
     "name": "stdout",
     "output_type": "stream",
     "text": [
      "interval of ave_p: (76.08, 83.92)\n"
     ]
    }
   ],
   "source": [
    "from math import sqrt\n",
    "\n",
    "sd_p = 10.\n",
    "num_s = 25.\n",
    "ave_s = 80.\n",
    "\n",
    "def estimate_interval_of_ave_p_by_using_ave_s(ave_s, sd_p, num_s):\n",
    "    # 標本標準偏差は母標準偏差をサンプル数の平方根で割ったもの\n",
    "    sd_s = sd_p / sqrt(num_s)\n",
    "    # 標準正規分布からの座標変換\n",
    "    ave_p_min = ave_s - 1.96 * sd_s\n",
    "    ave_p_max = ave_s + 1.96 * sd_s\n",
    "    return ave_p_min, ave_p_max\n",
    "\n",
    "print('interval of ave_p: {}'.format(estimate_interval_of_ave_p_by_using_ave_s(ave_s, sd_p, num_s)))"
   ]
  },
  {
   "cell_type": "code",
   "execution_count": 5,
   "metadata": {},
   "outputs": [
    {
     "name": "stdout",
     "output_type": "stream",
     "text": [
      "interval of ave_p (num=1): (110.4, 149.6)\n",
      "interval of ave_p (num=4): (126.2, 145.8)\n"
     ]
    }
   ],
   "source": [
    "# 練習問題\n",
    "num_s = 1\n",
    "s = 130\n",
    "sd_p = 10\n",
    "\n",
    "print('interval of ave_p (num=1): {}'.format(estimate_interval_of_ave_p_by_using_ave_s(s, sd_p, num_s)))\n",
    "\n",
    "s = [131, 135, 140, 138]\n",
    "num_s = len(s)\n",
    "ave_s = float(sum(s)) / num_s\n",
    "\n",
    "print('interval of ave_p (num=4): {}'.format(estimate_interval_of_ave_p_by_using_ave_s(ave_s, sd_p, num_s)))"
   ]
  }
 ],
 "metadata": {
  "kernelspec": {
   "display_name": "Python 3",
   "language": "python",
   "name": "python3"
  },
  "language_info": {
   "codemirror_mode": {
    "name": "ipython",
    "version": 3
   },
   "file_extension": ".py",
   "mimetype": "text/x-python",
   "name": "python",
   "nbconvert_exporter": "python",
   "pygments_lexer": "ipython3",
   "version": "3.7.4"
  }
 },
 "nbformat": 4,
 "nbformat_minor": 2
}
