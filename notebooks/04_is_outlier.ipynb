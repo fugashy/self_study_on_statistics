{
 "cells": [
  {
   "cell_type": "code",
   "execution_count": null,
   "metadata": {},
   "outputs": [],
   "source": [
    "# 正規分布に従うあるデータが，S.Dではかってプラスマイナス1個分以内なら月並みといえる\n",
    "# 2個以上離れていると特殊なデータと言える"
   ]
  },
  {
   "cell_type": "code",
   "execution_count": null,
   "metadata": {},
   "outputs": [],
   "source": [
    "# xくんの例\n",
    "x_ave_of_test_point = 60.\n",
    "x_stddev_of_the_test = 10.\n",
    "\n",
    "# yくんの例\n",
    "y_ave_of_test_point = 50.\n",
    "y_stddev_of_the_test = 30.\n",
    "\n",
    "u\"\"\"\n",
    "xくんのほうが安定しているが，yくんのほうが優れているときもある\n",
    "yくんはムラっけがあるといえる\n",
    "\"\"\""
   ]
  },
  {
   "cell_type": "code",
   "execution_count": 1,
   "metadata": {},
   "outputs": [
    {
     "name": "stdout",
     "output_type": "stream",
     "text": [
      "x vs y\n",
      "ave: 4.0 vs 8.0\n",
      "devs: [-3.0, -1.0, 0.0, 1.0, 3.0] vs [-3.0, -1.0, 0.0, 1.0, 3.0]\n",
      "var : 4.0 vs 4.0\n",
      "stddev: 2.0 vs 2.0\n"
     ]
    }
   ],
   "source": [
    "from math import sqrt\n",
    "\n",
    "# 加工されたデータの平均値と標準偏差をみる\n",
    "\n",
    "x = [1, 3, 4, 5, 7]\n",
    "ave_x = sum(x) / len(x)\n",
    "devs_x = [v - ave_x for v in x]\n",
    "var_x = sum([v**2 for v in devs_x]) / len(x)\n",
    "stddev_x = sqrt(var_x)\n",
    "\n",
    "# +4されたデータ\n",
    "y = [v + 4 for v in x]\n",
    "ave_y = sum(y) / len(y)\n",
    "devs_y = [v - ave_y for v in y]\n",
    "var_y = sum([v**2 for v in devs_y]) / len(y)\n",
    "stddev_y = sqrt(var_y)\n",
    "\n",
    "print('x vs y')\n",
    "print('ave: {} vs {}'.format(ave_x, ave_y))\n",
    "print('devs: {} vs {}'.format(devs_x, devs_y))\n",
    "print('var : {} vs {}'.format(var_x, var_y))\n",
    "print('stddev: {} vs {}'.format(stddev_x, stddev_y))"
   ]
  },
  {
   "cell_type": "markdown",
   "metadata": {},
   "source": [
    "まとめると，\n",
    "\n",
    "- 平均は足した分だけ増える\n",
    "- 偏差は変わらない\n",
    "- 分散も変わらない\n",
    "- 標準偏差も変わらない"
   ]
  },
  {
   "cell_type": "code",
   "execution_count": 2,
   "metadata": {},
   "outputs": [
    {
     "name": "stdout",
     "output_type": "stream",
     "text": [
      "x vs y\n",
      "ave: 4.0 vs 8.0\n",
      "devs: [-3.0, -1.0, 0.0, 1.0, 3.0] vs [-6.0, -2.0, 0.0, 2.0, 6.0]\n",
      "var : 4.0 vs 16.0\n",
      "stddev: 2.0 vs 4.0\n"
     ]
    }
   ],
   "source": [
    "# x2されたデータ\n",
    "y = [v * 2 for v in x]\n",
    "ave_y = sum(y) / len(y)\n",
    "devs_y = [v - ave_y for v in y]\n",
    "var_y = sum([v**2 for v in devs_y]) / len(y)\n",
    "stddev_y = sqrt(var_y)\n",
    "\n",
    "print('x vs y')\n",
    "print('ave: {} vs {}'.format(ave_x, ave_y))\n",
    "print('devs: {} vs {}'.format(devs_x, devs_y))\n",
    "print('var : {} vs {}'.format(var_x, var_y))\n",
    "print('stddev: {} vs {}'.format(stddev_x, stddev_y))"
   ]
  },
  {
   "cell_type": "markdown",
   "metadata": {},
   "source": [
    "まとめると，\n",
    "\n",
    "- 平均はかけたぶんだけ増える\n",
    "- 偏差もかけたぶんだけそれぞれ増える\n",
    "- 分散はかけたぶんの自乗だけ増える\n",
    "- 標準偏差はかけたぶんだけ増える"
   ]
  }
 ],
 "metadata": {
  "kernelspec": {
   "display_name": "Python 3",
   "language": "python",
   "name": "python3"
  },
  "language_info": {
   "codemirror_mode": {
    "name": "ipython",
    "version": 3
   },
   "file_extension": ".py",
   "mimetype": "text/x-python",
   "name": "python",
   "nbconvert_exporter": "python",
   "pygments_lexer": "ipython3",
   "version": "3.7.4"
  }
 },
 "nbformat": 4,
 "nbformat_minor": 2
}
